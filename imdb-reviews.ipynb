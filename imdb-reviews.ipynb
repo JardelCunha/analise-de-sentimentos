{
 "cells": [
  {
   "cell_type": "code",
   "execution_count": 1,
   "metadata": {},
   "outputs": [],
   "source": [
    "import csv\n",
    "import matplotlib.pyplot as plt; plt.rcdefaults()\n",
    "import numpy as np\n",
    "import matplotlib.pyplot as plt\n",
    "#from wordcloud import WordCloud\n",
    "import tempfile\n",
    "\n",
    "import preprocessor as p\n",
    "\n",
    "\n",
    "from nltk.corpus import stopwords\n",
    "from nltk.tokenize import word_tokenize\n",
    "from nltk.stem import PorterStemmer\n",
    "from nltk.stem import RSLPStemmer\n",
    "import re\n",
    "from sklearn.feature_extraction.text import TfidfVectorizer,CountVectorizer\n",
    "from sklearn import svm\n",
    "from sklearn.naive_bayes import MultinomialNB\n",
    "from sklearn.linear_model import SGDClassifier\n",
    "from sklearn.model_selection import cross_val_predict\n",
    "from sklearn.model_selection import train_test_split\n",
    "from sklearn.metrics import confusion_matrix\n",
    "from sklearn.metrics import precision_score, recall_score, f1_score\n",
    "import itertools\n",
    "\n",
    "\n",
    "%matplotlib inline"
   ]
  },
  {
   "cell_type": "markdown",
   "metadata": {},
   "source": [
    "# Métodos de Pré Processamento "
   ]
  },
  {
   "cell_type": "code",
   "execution_count": 2,
   "metadata": {},
   "outputs": [],
   "source": [
    "def remove_stopwords(text):\n",
    "     # remove punctuation\n",
    "    chars = ['…','.', '/', ''', ''', '?', '!', '$', '%', '^', '&',\n",
    "             '*', '(', ')', ' - ', '_', '+', '=', '@', ':',\n",
    "             '\\\\', ',',\n",
    "             ';', '~', '`', '<', '>', '|', '[', ']', '{', '}',\n",
    "             '–', '“',\n",
    "             '»', '«', '°', '’', '1', '2',\n",
    "             '3', '4', '5', '6', '7', '8', '9', '0', 'https', 'http']\n",
    "    for c in chars:\n",
    "        text= text.replace(c,' ').lower()\n",
    "    text = text.split()\n",
    "    import nltk\n",
    "    # Caso seja preciso mudar o idioma, basta inserir o idioma desejado no parâmetro.\n",
    "    stopwords = nltk.corpus.stopwords.words('portuguese')\n",
    "    content = [w for w in text if w.lower().strip() not in stopwords]\n",
    "\n",
    "    return content"
   ]
  },
  {
   "cell_type": "code",
   "execution_count": 3,
   "metadata": {},
   "outputs": [],
   "source": [
    "def tokenize(text):\n",
    "    tokens = word_tokenize(text)\n",
    "    porter = RSLPStemmer()\n",
    "    tokens = [porter.stem(t) for t in tokens]\n",
    "    tokens = [\n",
    "                t for t in tokens\n",
    "                    if len(t)> 2 and not t.isdigit()\n",
    "    ]\n",
    "    return tokens"
   ]
  },
  {
   "cell_type": "code",
   "execution_count": 4,
   "metadata": {},
   "outputs": [],
   "source": [
    "def remove_emoji(text):\n",
    "#    print(text)\n",
    "   d=[]\n",
    "   d = re.compile(\"[\"\n",
    "        u\"\\U0001F600-\\U0001F64F\"  # emoticons\n",
    "        u\"\\U0001F300-\\U0001F5FF\"  # symbols & pictographs\n",
    "        u\"\\U0001F680-\\U0001F6FF\"  # transport & map symbols\n",
    "        u\"\\U0001F1E0-\\U0001F1FF\"  # flags (iOS)\n",
    "                           \"]+\", flags=re.UNICODE)\n",
    "   d = d.sub(r'', text)\n",
    "   return d"
   ]
  },
  {
   "cell_type": "code",
   "execution_count": 5,
   "metadata": {},
   "outputs": [],
   "source": [
    "def remove_url(text):\n",
    "   b=[]\n",
    "   b = re.sub(r'^https?:\\/\\/.*[\\r\\n]*', '', text, flags=re.MULTILINE)\n",
    "   return b"
   ]
  },
  {
   "cell_type": "code",
   "execution_count": 6,
   "metadata": {},
   "outputs": [],
   "source": [
    "def remove_mentions(text):\n",
    "   c=[]\n",
    "   c = re.sub(r\"(?:\\@|https?\\://)\\S+\", \"\", text)\n",
    "   c = re.sub('[rt]', \"\", c)\n",
    "   return c"
   ]
  },
  {
   "cell_type": "code",
   "execution_count": 7,
   "metadata": {},
   "outputs": [],
   "source": [
    "def remove_hashtag(text):\n",
    "    words = text.split()\n",
    "    for i in words:\n",
    "        if i.startswith('#'):\n",
    "            words.remove(i)\n",
    "    text = ''.join(text)\n",
    "    return text"
   ]
  },
  {
   "cell_type": "code",
   "execution_count": 8,
   "metadata": {},
   "outputs": [],
   "source": [
    "def aplica_steaming(text):\n",
    "    stemmer = nltk.steam.RLSPStemmer()\n",
    "    tweetsStemming = []\n",
    "    for doc in text:\n",
    "        comStemming = [srt(stemmer.steam(d)) for d in text.splip()]\n",
    "        tweetsStemming.append(comStemming)"
   ]
  },
  {
   "cell_type": "code",
   "execution_count": 9,
   "metadata": {
    "scrolled": false
   },
   "outputs": [],
   "source": [
    "dataset = csv.reader(open('data/imdb-pt-br.csv', 'r', encoding='utf-8'))\n",
    "list_docs = []\n",
    "list_labels = []\n",
    "\n",
    "for row in dataset:\n",
    "    list_docs.append(row[1])\n",
    "    list_labels.append(row[2])"
   ]
  },
  {
   "cell_type": "code",
   "execution_count": 10,
   "metadata": {},
   "outputs": [
    {
     "name": "stdout",
     "output_type": "stream",
     "text": [
      "Este filme é excelente eu assisti a versão francesa. Existem muitas subtramas que geralmente prejudicam o todo, mas elas se desdobram muito bem e concorrem para o tema principal \"descobrindo o verdadeiro eu\". Na verdade, todo o filme, além de seu histórico, é a jornada para a descoberta de alguém ou de alguém. O rei é realmente um \"bom monarca pacifista\" tentando travar uma \"guerra para acabar com todas as guerras\" ou ele é apenas um perturbado e sedento sanguinário? Ele é um verdadeiro rei, afinal? A atendente da rainha-mãe é apenas uma marionete voluptuosa, impulsionada pela carreira e sem cabeça, ou uma pessoa de pensamento aguçado e ousada? A dama / concubina perceberá quem é verdadeiramente o rei? O que há entre o rei e o antigo chanceler? Qual é o segredo que todo mundo sabe, mas não vai contar? Qual é a verdadeira razão pela qual o assassino deixou seu \"emprego\"? Subtramas das quais eu não gosto particularmente são bem tratadas e mantêm uma observação até o final. Cenas são bem trabalhadas e CGI se encaixa perfeitamente, sem exagerar. O suspense é mantido adequadamente e os atores estão prontos para a tarefa. Há muitos sorrisos com problemas cerebrais, mas é assim que se deve se comportar na corte dos reis, como reclama a dama / concubina. Filme realista sem momentos de super-heróis. Este filme chinês realmente envergonha o papelão de Hollywood, colossais, Gladiador, etc. pos\n"
     ]
    }
   ],
   "source": [
    "print(list_docs[0], list_labels[0])"
   ]
  },
  {
   "cell_type": "code",
   "execution_count": 11,
   "metadata": {},
   "outputs": [],
   "source": [
    "count_neg=0\n",
    "count_pos=0\n",
    "\n",
    "list_neg=[]\n",
    "list_pos=[]\n",
    "\n",
    "documents = []\n",
    "labels    = []\n",
    "\n",
    "doc = []\n",
    "with open('data/imdb-pt-br.csv','r', encoding='utf-8') as csvfile:\n",
    "    reader = csv.reader(csvfile, delimiter =',')\n",
    "    for row in reader:\n",
    "        if row[2]=='neg':\n",
    "            count_neg+=1\n",
    "            list_neg.append(row[2])\n",
    "        else:\n",
    "            count_pos+=1\n",
    "            list_pos.append(row[2])\n",
    "            \n",
    "        documents.append(row[1])\n",
    "        labels.append(row[2])"
   ]
  },
  {
   "cell_type": "code",
   "execution_count": 12,
   "metadata": {},
   "outputs": [],
   "source": [
    "clean_documents = []\n",
    "for doc in documents:\n",
    "    #usando as funcões da tweetpreprocess\n",
    "    tweetsLimpos = p.clean(doc)\n",
    "    tweetsPreProcessados = remove_stopwords(tweetsLimpos)\n",
    "    #tokenizado = tokenize(tweetsPreProcessados)\n",
    "    document = ' '.join(tweetsPreProcessados)\n",
    "    clean_documents.append(document)\n",
    "\n",
    "    \n",
    "tokenizado_documents = []\n",
    "for doc in clean_documents:\n",
    "    tokenizado = tokenize(doc)\n",
    "    document = ' '.join(tokenizado)\n",
    "    tokenizado_documents.append(document)"
   ]
  },
  {
   "cell_type": "code",
   "execution_count": 13,
   "metadata": {},
   "outputs": [
    {
     "name": "stdout",
     "output_type": "stream",
     "text": [
      "film excel assist vers franc exist muit subtram geral prejudic tod desdobr bem concorr tem princip descobr verd verdad tod film além histór jorn descobert alguém alguém rei real bom monarc pacif tent trav guerr acab tod guerr apen perturb sedent sanguin verd rei afinal atend rainha-mã apen marionet volupt impulsion carr cabeç pesso pens aguç ous dam concubin perceb verdade rei rei antig chancel segred tod mund sab vai cont verd assassin deiu empreg subtram qual gost particul bem trat mantêm observ final cen bem trabalh cgi encaix perfeit exager suspens mant adequad pront taref muit sorris problem cerebr assim dev comport cort reil reclam dam concubin film real moment super-herol film chin real envergonh papel hollywood coloss gladi etc\n"
     ]
    }
   ],
   "source": [
    "print(tokenizado_documents[0])"
   ]
  },
  {
   "cell_type": "markdown",
   "metadata": {},
   "source": [
    "# Matrix de Confusão"
   ]
  },
  {
   "cell_type": "code",
   "execution_count": 14,
   "metadata": {},
   "outputs": [],
   "source": [
    "def plot_confusion_matrix(cm, classes,\n",
    "                          normalize=False,\n",
    "                          title='Confusion matrix',\n",
    "                          cmap=plt.cm.Blues):\n",
    "    \"\"\"\n",
    "    This function prints and plots the confusion matrix.\n",
    "    Normalization can be applied by setting `normalize=True`.\n",
    "    \"\"\"\n",
    "    if normalize:\n",
    "        cm = cm.astype('float') / cm.sum(axis=1)[:, np.newaxis]\n",
    "        print(\"Normalized confusion matrix\")\n",
    "    else:\n",
    "        print('Confusion matrix, without normalization')\n",
    "\n",
    "    print(cm)\n",
    "\n",
    "    plt.imshow(cm, interpolation='nearest', cmap=cmap)\n",
    "    plt.title(title)\n",
    "    plt.colorbar()\n",
    "    tick_marks = np.arange(len(classes))\n",
    "    plt.xticks(tick_marks, classes, rotation=45)\n",
    "    plt.yticks(tick_marks, classes)\n",
    "\n",
    "    fmt = '.2f' if normalize else 'd'\n",
    "    thresh = cm.max() / 2.\n",
    "    for i, j in itertools.product(range(cm.shape[0]), range(cm.shape[1])):\n",
    "        plt.text(j, i, format(cm[i, j], fmt),\n",
    "                 horizontalalignment=\"center\",\n",
    "                 color=\"white\" if cm[i, j] > thresh else \"black\")\n",
    "\n",
    "    plt.tight_layout()\n",
    "    plt.ylabel('Classe Real')\n",
    "    plt.xlabel('Classe Predita')"
   ]
  },
  {
   "cell_type": "markdown",
   "metadata": {},
   "source": [
    "# DESCRIÇÃO DA BASE DE DADOS"
   ]
  },
  {
   "cell_type": "code",
   "execution_count": 15,
   "metadata": {},
   "outputs": [
    {
     "name": "stdout",
     "output_type": "stream",
     "text": [
      "1999\n",
      "2001\n"
     ]
    },
    {
     "data": {
      "image/png": "[encoded data removed]",
      "text/plain": [
       "<Figure size 432x288 with 1 Axes>"
      ]
     },
     "metadata": {},
     "output_type": "display_data"
    }
   ],
   "source": [
    "objects = ('neg = Negativo', 'pos = Positivo')\n",
    "y_pos = np.arange(len(objects))\n",
    "performance = [count_neg, count_pos]\n",
    "\n",
    "plt.bar(y_pos, performance, align='center',alpha=0.5)\n",
    "plt.xticks(y_pos, objects)\n",
    "plt.ylabel('Quantidade')\n",
    "plt.title('Quantidade por Classe')\n",
    "\n",
    "print(count_neg)\n",
    "print(count_pos)\n",
    "\n",
    "plt.show()"
   ]
  },
  {
   "cell_type": "markdown",
   "metadata": {},
   "source": [
    "# TF-IDF"
   ]
  },
  {
   "cell_type": "code",
   "execution_count": 16,
   "metadata": {},
   "outputs": [],
   "source": [
    "vectorizer = TfidfVectorizer(use_idf=True)\n",
    "X = vectorizer.fit_transform(tokenizado_documents)\n",
    "y = labels"
   ]
  },
  {
   "cell_type": "markdown",
   "metadata": {},
   "source": [
    "# MÉTRICAS: ACURÁCIA, F1, RECALL, PRECISION"
   ]
  },
  {
   "cell_type": "code",
   "execution_count": 17,
   "metadata": {},
   "outputs": [],
   "source": [
    "def train(classifier, X, y, class_names):\n",
    "    X_train, X_test, y_train, y_test = train_test_split(X, y, test_size=0.10, random_state=81)\n",
    "    \n",
    "    ##TREINANDO MEU ALGORITMO\n",
    "    classifier.fit(X_train, y_train)\n",
    "    \n",
    "    ##Predicoes para medição da Acurácia\n",
    "    y_pred = classifier.fit(X_train, y_train).predict(X_test)\n",
    "    \n",
    "    cnf_matrix = confusion_matrix(y_test, y_pred)\n",
    "    np.set_printoptions(precision=2)\n",
    "    \n",
    "    print(\"Acurracia: %s\" % classifier.score(X_test,y_test))\n",
    "    print(\"F1: %s\" % str(f1_score(y_test, y_pred, average=None )))\n",
    "    print(\"Recall: %s\"% str(recall_score(y_test, y_pred, average=None)))\n",
    "    print(\"Precision: %s\" % str(precision_score(y_test, y_pred, average=None)))\n",
    "    \n",
    "    plt.figure()\n",
    "    plot_confusion_matrix(cnf_matrix, classes=class_names, title='Matriz de Confusao')\n",
    "    \n",
    "    plt.show()\n",
    "    \n",
    "    return classifier"
   ]
  },
  {
   "cell_type": "markdown",
   "metadata": {},
   "source": [
    "# MultinomialNB"
   ]
  },
  {
   "cell_type": "code",
   "execution_count": 23,
   "metadata": {},
   "outputs": [
    {
     "name": "stdout",
     "output_type": "stream",
     "text": [
      "Acurracia: 0.91\n",
      "F1: [0.91 0.91]\n",
      "Recall: [0.9  0.92]\n",
      "Precision: [0.92 0.9 ]\n",
      "Confusion matrix, without normalization\n",
      "[[186  20]\n",
      " [ 16 178]]\n"
     ]
    },
    {
     "data": {
      "image/png": "[encoded data removed]",
      "text/plain": [
       "<Figure size 432x288 with 2 Axes>"
      ]
     },
     "metadata": {},
     "output_type": "display_data"
    },
    {
     "data": {
      "text/plain": [
       "MultinomialNB(alpha=0.05, class_prior=None, fit_prior=True)"
      ]
     },
     "execution_count": 23,
     "metadata": {},
     "output_type": "execute_result"
    }
   ],
   "source": [
    "train(MultinomialNB(alpha=0.05), X, y, ['neg','pos'])"
   ]
  },
  {
   "cell_type": "markdown",
   "metadata": {},
   "source": [
    "# Suport Vector Machine "
   ]
  },
  {
   "cell_type": "code",
   "execution_count": 24,
   "metadata": {},
   "outputs": [
    {
     "name": "stdout",
     "output_type": "stream",
     "text": [
      "Acurracia: 0.88\n",
      "F1: [0.88 0.88]\n",
      "Recall: [0.84 0.92]\n",
      "Precision: [0.92 0.85]\n",
      "Confusion matrix, without normalization\n",
      "[[174  32]\n",
      " [ 16 178]]\n"
     ]
    },
    {
     "data": {
      "image/png": "[encoded data removed]",
      "text/plain": [
       "<Figure size 432x288 with 2 Axes>"
      ]
     },
     "metadata": {},
     "output_type": "display_data"
    },
    {
     "data": {
      "text/plain": [
       "SVC(C=1.0, cache_size=200, class_weight=None, coef0=0.0,\n",
       "  decision_function_shape='ovr', degree=3, gamma='auto_deprecated',\n",
       "  kernel='linear', max_iter=-1, probability=False, random_state=None,\n",
       "  shrinking=True, tol=0.001, verbose=False)"
      ]
     },
     "execution_count": 24,
     "metadata": {},
     "output_type": "execute_result"
    }
   ],
   "source": [
    "train(svm.SVC(kernel='linear', C=1.0), X,y, ['neg','pos'])"
   ]
  },
  {
   "cell_type": "markdown",
   "metadata": {},
   "source": [
    "# SGDClassifier"
   ]
  },
  {
   "cell_type": "code",
   "execution_count": 25,
   "metadata": {},
   "outputs": [
    {
     "name": "stderr",
     "output_type": "stream",
     "text": [
      "c:\\users\\jarde\\appdata\\local\\programs\\python\\python37-32\\lib\\site-packages\\sklearn\\linear_model\\stochastic_gradient.py:166: FutureWarning: max_iter and tol parameters have been added in SGDClassifier in 0.19. If both are left unset, they default to max_iter=5 and tol=None. If tol is not None, max_iter defaults to max_iter=1000. From 0.21, default max_iter will be 1000, and default tol will be 1e-3.\n",
      "  FutureWarning)\n"
     ]
    },
    {
     "name": "stdout",
     "output_type": "stream",
     "text": [
      "Acurracia: 0.8875\n",
      "F1: [0.89 0.89]\n",
      "Recall: [0.85 0.92]\n",
      "Precision: [0.92 0.86]\n",
      "Confusion matrix, without normalization\n",
      "[[176  30]\n",
      " [ 15 179]]\n"
     ]
    },
    {
     "data": {
      "image/png": "[encoded data removed]",
      "text/plain": [
       "<Figure size 432x288 with 2 Axes>"
      ]
     },
     "metadata": {},
     "output_type": "display_data"
    },
    {
     "data": {
      "text/plain": [
       "SGDClassifier(alpha=0.0001, average=False, class_weight=None,\n",
       "       early_stopping=False, epsilon=0.1, eta0=0.0, fit_intercept=True,\n",
       "       l1_ratio=0.15, learning_rate='optimal', loss='hinge', max_iter=None,\n",
       "       n_iter=None, n_iter_no_change=5, n_jobs=None, penalty='l2',\n",
       "       power_t=0.5, random_state=None, shuffle=True, tol=None,\n",
       "       validation_fraction=0.1, verbose=0, warm_start=False)"
      ]
     },
     "execution_count": 25,
     "metadata": {},
     "output_type": "execute_result"
    }
   ],
   "source": [
    "train(SGDClassifier(alpha=0.0001), X,y, ['neg','pos'])"
   ]
  },
  {
   "cell_type": "code",
   "execution_count": 26,
   "metadata": {},
   "outputs": [
    {
     "name": "stdout",
     "output_type": "stream",
     "text": [
      "MultinomialNB\n"
     ]
    },
    {
     "name": "stderr",
     "output_type": "stream",
     "text": [
      "c:\\users\\jarde\\appdata\\local\\programs\\python\\python37-32\\lib\\site-packages\\sklearn\\metrics\\classification.py:1052: UserWarning: Note that pos_label (set to 3) is ignored when average != 'binary' (got 'macro'). You may use labels=[pos_label] to specify a single positive class.\n",
      "  % (pos_label, average), UserWarning)\n",
      "c:\\users\\jarde\\appdata\\local\\programs\\python\\python37-32\\lib\\site-packages\\sklearn\\metrics\\classification.py:1052: UserWarning: Note that pos_label (set to 3) is ignored when average != 'binary' (got 'macro'). You may use labels=[pos_label] to specify a single positive class.\n",
      "  % (pos_label, average), UserWarning)\n",
      "c:\\users\\jarde\\appdata\\local\\programs\\python\\python37-32\\lib\\site-packages\\sklearn\\metrics\\classification.py:1052: UserWarning: Note that pos_label (set to 3) is ignored when average != 'binary' (got 'macro'). You may use labels=[pos_label] to specify a single positive class.\n",
      "  % (pos_label, average), UserWarning)\n",
      "c:\\users\\jarde\\appdata\\local\\programs\\python\\python37-32\\lib\\site-packages\\sklearn\\metrics\\classification.py:1052: UserWarning: Note that pos_label (set to 3) is ignored when average != 'binary' (got 'macro'). You may use labels=[pos_label] to specify a single positive class.\n",
      "  % (pos_label, average), UserWarning)\n",
      "c:\\users\\jarde\\appdata\\local\\programs\\python\\python37-32\\lib\\site-packages\\sklearn\\metrics\\classification.py:1052: UserWarning: Note that pos_label (set to 3) is ignored when average != 'binary' (got 'macro'). You may use labels=[pos_label] to specify a single positive class.\n",
      "  % (pos_label, average), UserWarning)\n"
     ]
    },
    {
     "name": "stdout",
     "output_type": "stream",
     "text": [
      "Accuracy : 0.725748\n",
      "Precision : 0.736134\n",
      "Recall : 0.725800\n",
      "time : 8.361598491668701 \n",
      "\n",
      "\n",
      "SVM\n"
     ]
    },
    {
     "name": "stderr",
     "output_type": "stream",
     "text": [
      "c:\\users\\jarde\\appdata\\local\\programs\\python\\python37-32\\lib\\site-packages\\sklearn\\metrics\\classification.py:1052: UserWarning: Note that pos_label (set to 3) is ignored when average != 'binary' (got 'macro'). You may use labels=[pos_label] to specify a single positive class.\n",
      "  % (pos_label, average), UserWarning)\n"
     ]
    },
    {
     "name": "stdout",
     "output_type": "stream",
     "text": [
      "Accuracy : 0.762500\n",
      "Precision : 0.769699\n",
      "Recall : 0.762537\n",
      "time : 70.52245926856995 \n",
      "\n",
      "\n",
      "SGDC\n"
     ]
    },
    {
     "name": "stderr",
     "output_type": "stream",
     "text": [
      "c:\\users\\jarde\\appdata\\local\\programs\\python\\python37-32\\lib\\site-packages\\sklearn\\linear_model\\stochastic_gradient.py:166: FutureWarning: max_iter and tol parameters have been added in SGDClassifier in 0.19. If both are left unset, they default to max_iter=5 and tol=None. If tol is not None, max_iter defaults to max_iter=1000. From 0.21, default max_iter will be 1000, and default tol will be 1e-3.\n",
      "  FutureWarning)\n",
      "c:\\users\\jarde\\appdata\\local\\programs\\python\\python37-32\\lib\\site-packages\\sklearn\\metrics\\classification.py:1052: UserWarning: Note that pos_label (set to 3) is ignored when average != 'binary' (got 'macro'). You may use labels=[pos_label] to specify a single positive class.\n",
      "  % (pos_label, average), UserWarning)\n"
     ]
    },
    {
     "name": "stdout",
     "output_type": "stream",
     "text": [
      "Accuracy : 0.770752\n",
      "Precision : 0.777294\n",
      "Recall : 0.770784\n",
      "time : 0.29221510887145996 \n",
      "\n",
      "\n"
     ]
    }
   ],
   "source": [
    "from multiscorer import MultiScorer\n",
    "import time\n",
    "from sklearn.metrics import accuracy_score, precision_score, recall_score \n",
    "from sklearn.model_selection import cross_validate\n",
    "from sklearn.model_selection import ShuffleSplit\n",
    "from sklearn.model_selection import cross_val_score\n",
    "from sklearn.metrics import make_scorer\n",
    "\n",
    "\n",
    "models = [MultinomialNB(alpha=0.05), svm.SVC(kernel='linear', C=1.0), SGDClassifier(alpha=0.0001)]\n",
    "names = ['MultinomialNB', 'SVM', 'SGDC']\n",
    "\n",
    "scorer = MultiScorer({\n",
    "    'Accuracy' : (accuracy_score, {}),\n",
    "    'Precision' : (precision_score, {'pos_label': 3, 'average':'macro'}),\n",
    "    'Recall' : (recall_score, {'pos_label': 3, 'average':'macro'})\n",
    "})\n",
    "\n",
    "for model, name in zip(models, names):\n",
    "    print (name)\n",
    "    start = time.time()\n",
    "\n",
    "    cross_val_score(model, X, y,scoring=scorer, cv=5)\n",
    "    results = scorer.get_results()\n",
    "\n",
    "    for metric_name in results.keys():\n",
    "        average_score = np.average(results[metric_name])\n",
    "        print('%s : %f' % (metric_name, average_score))\n",
    "\n",
    "    print ('time :', time.time() - start, '\\n\\n')\n",
    "    \n",
    "#    for metric_name in results.keys():\n",
    "#        average_score = np.average(results[metric_name])\n",
    "#        print('%s : %f' % (metric_name, average_score))\n",
    "#    \n",
    "#    print ('time :', time.time() - start, '\\n\\n')\n",
    "\n",
    "#scores_MultinomialNB_classifier = cross_validate(MultinomialNB_classifier, X, y, cv=cv, scoring=scoring)\n",
    "#print (scores.keys(), \n",
    "#       scores_MultinomialNB_classifier)\n",
    "\n",
    "#scores_SVM_classifier = cross_validate(SVM_classifier, X, y, cv=cv, scoring=scoring)\n",
    "#print (scores.keys(),\n",
    "#       scores_SVM_classifier)\n",
    "\n",
    "#scores_SGDC_Classifier = cross_val_score(SGDC_Classifier, X, y, cv=cv, score=scoring)\n",
    "#print (scores_SGDC_Classifier)"
   ]
  },
  {
   "cell_type": "code",
   "execution_count": null,
   "metadata": {},
   "outputs": [],
   "source": []
  }
 ],
 "metadata": {
  "kernelspec": {
   "display_name": "Python 3",
   "language": "python",
   "name": "python3"
  },
  "language_info": {
   "codemirror_mode": {
    "name": "ipython",
    "version": 3
   },
   "file_extension": ".py",
   "mimetype": "text/x-python",
   "name": "python",
   "nbconvert_exporter": "python",
   "pygments_lexer": "ipython3",
   "version": "3.7.0"
  }
 },
 "nbformat": 4,
 "nbformat_minor": 2
}
